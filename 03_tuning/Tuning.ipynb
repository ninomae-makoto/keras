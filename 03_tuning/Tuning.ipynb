{
 "cells": [
  {
   "cell_type": "markdown",
   "metadata": {},
   "source": [
    "# 学習モデル作成・保存"
   ]
  },
  {
   "cell_type": "code",
   "execution_count": 2,
   "metadata": {},
   "outputs": [
    {
     "name": "stdout",
     "output_type": "stream",
     "text": [
      "x_train shape: (60000, 28, 28, 1)\n",
      "60000 train samples\n",
      "10000 test samples\n",
      "WARNING:tensorflow:From /anaconda3/lib/python3.7/site-packages/tensorflow/python/framework/op_def_library.py:263: colocate_with (from tensorflow.python.framework.ops) is deprecated and will be removed in a future version.\n",
      "Instructions for updating:\n",
      "Colocations handled automatically by placer.\n",
      "WARNING:tensorflow:From /anaconda3/lib/python3.7/site-packages/keras/backend/tensorflow_backend.py:3445: calling dropout (from tensorflow.python.ops.nn_ops) with keep_prob is deprecated and will be removed in a future version.\n",
      "Instructions for updating:\n",
      "Please use `rate` instead of `keep_prob`. Rate should be set to `rate = 1 - keep_prob`.\n",
      "WARNING:tensorflow:From /anaconda3/lib/python3.7/site-packages/tensorflow/python/ops/math_ops.py:3066: to_int32 (from tensorflow.python.ops.math_ops) is deprecated and will be removed in a future version.\n",
      "Instructions for updating:\n",
      "Use tf.cast instead.\n",
      "Train on 60000 samples, validate on 10000 samples\n",
      "Epoch 1/10\n",
      "60000/60000 [==============================] - 135s 2ms/step - loss: 0.2130 - acc: 0.9339 - val_loss: 0.0465 - val_acc: 0.9855\n",
      "Epoch 2/10\n",
      "60000/60000 [==============================] - 142s 2ms/step - loss: 0.0759 - acc: 0.9775 - val_loss: 0.0384 - val_acc: 0.9881\n",
      "Epoch 3/10\n",
      "60000/60000 [==============================] - 136s 2ms/step - loss: 0.0564 - acc: 0.9829 - val_loss: 0.0336 - val_acc: 0.9883\n",
      "Epoch 4/10\n",
      "60000/60000 [==============================] - 146s 2ms/step - loss: 0.0480 - acc: 0.9862 - val_loss: 0.0325 - val_acc: 0.9895\n",
      "Epoch 5/10\n",
      "60000/60000 [==============================] - 135s 2ms/step - loss: 0.0407 - acc: 0.9877 - val_loss: 0.0281 - val_acc: 0.9916\n",
      "Epoch 6/10\n",
      "60000/60000 [==============================] - 138s 2ms/step - loss: 0.0352 - acc: 0.9893 - val_loss: 0.0271 - val_acc: 0.9921\n",
      "Epoch 7/10\n",
      "60000/60000 [==============================] - 147s 2ms/step - loss: 0.0321 - acc: 0.9903 - val_loss: 0.0275 - val_acc: 0.9918\n",
      "Test loss: 0.027495460516903405\n",
      "Test accuracy: 0.9918\n"
     ]
    }
   ],
   "source": [
    "import keras\n",
    "from keras.datasets import mnist\n",
    "from keras.models import Sequential\n",
    "from keras.layers import Dense, Dropout, Flatten\n",
    "from keras.layers import Conv2D, MaxPooling2D\n",
    "from keras import backend as K\n",
    "from keras.layers import BatchNormalization\n",
    "from keras.callbacks import EarlyStopping\n",
    "\n",
    "\n",
    "batch_size = 128\n",
    "num_classes = 10\n",
    "# 学習回数\n",
    "epochs = 10\n",
    "\n",
    "# input image dimensions\n",
    "img_rows, img_cols = 28, 28\n",
    "\n",
    "# データを読み込む\n",
    "(x_train, y_train), (x_test, y_test) = mnist.load_data()\n",
    "\n",
    "# 前処理\n",
    "\n",
    "##  TensorFlowとTheanoで場合わけ 画像を1次元化\n",
    "if K.image_data_format() == 'channels_first':\n",
    "    x_train = x_train.reshape(x_train.shape[0], 1, img_rows, img_cols)\n",
    "    x_test = x_test.reshape(x_test.shape[0], 1, img_rows, img_cols)\n",
    "    input_shape = (1, img_rows, img_cols)\n",
    "else:\n",
    "    x_train = x_train.reshape(x_train.shape[0], img_rows, img_cols, 1)\n",
    "    x_test = x_test.reshape(x_test.shape[0], img_rows, img_cols, 1)\n",
    "    input_shape = (img_rows, img_cols, 1)\n",
    "\n",
    "## 画素を0~1の範囲に正規化\n",
    "x_train = x_train.astype('float32')\n",
    "x_test = x_test.astype('float32')\n",
    "x_train /= 255\n",
    "x_test /= 255\n",
    "print('x_train shape:', x_train.shape)\n",
    "print(x_train.shape[0], 'train samples')\n",
    "print(x_test.shape[0], 'test samples')\n",
    "\n",
    "# convert class vectors to binary class matrices\n",
    "y_train = keras.utils.to_categorical(y_train, num_classes)\n",
    "y_test = keras.utils.to_categorical(y_test, num_classes)\n",
    "\n",
    "# モデルを作成\n",
    "model = Sequential()\n",
    "model.add(BatchNormalization())\n",
    "model.add(Conv2D(32, kernel_size=(3, 3),\n",
    "                 activation='relu',\n",
    "                 input_shape=input_shape))\n",
    "model.add(Conv2D(64, (3, 3), activation='relu'))\n",
    "model.add(MaxPooling2D(pool_size=(2, 2)))\n",
    "model.add(Dropout(0.25))\n",
    "model.add(Flatten())\n",
    "model.add(Dense(128, activation='relu'))\n",
    "model.add(Dropout(0.5))\n",
    "model.add(Dense(num_classes, activation='softmax'))\n",
    "\n",
    "## 学習のためのモデルを設定\n",
    "model.compile(loss=keras.losses.categorical_crossentropy,\n",
    "              optimizer=keras.optimizers.Adadelta(),\n",
    "              metrics=['accuracy'])\n",
    "\n",
    "## 学習開始\n",
    "model.fit(x_train, y_train,\n",
    "          batch_size=batch_size,\n",
    "          epochs=epochs,\n",
    "          verbose=1,\n",
    "          validation_data=(x_test, y_test),\n",
    "          callbacks=[EarlyStopping()])\n",
    "\n",
    "# データ水増し 上下左右に10%ずらす あまり精度が出なかった\n",
    "# datagen = image.ImageDataGenerator(\n",
    "#     width_shift_range=0.1,\n",
    "#     height_shift_range=0.1)\n",
    "# datagen.fit(x_train)\n",
    "# # here's a more \"manual\" example\n",
    "# for e in range(epochs):\n",
    "#     print('Epoch', e)\n",
    "#     batches = 0\n",
    "#     for x_batch, y_batch in datagen.flow(x_train, y_train, batch_size=32):\n",
    "#         model.fit(x_batch, y_batch,\n",
    "#                   batch_size=batch_size,\n",
    "#                   epochs=epochs,\n",
    "#                   verbose=1,\n",
    "#                   validation_data=(x_test, y_test))\n",
    "#         batches += 1\n",
    "#         if batches >= len(x_train) / 32:\n",
    "#             # we need to break the loop by hand because\n",
    "#             # the generator loops indefinitely\n",
    "#             break\n",
    "\n",
    "## モデルの損失値と評価値を返す\n",
    "score = model.evaluate(x_test, y_test, verbose=0)\n",
    "print('Test loss:', score[0])\n",
    "print('Test accuracy:', score[1])\n",
    "\n",
    "# 保存 ディレクトリに出力される\n",
    "model.save(\"../test2.h5\")"
   ]
  },
  {
   "cell_type": "markdown",
   "metadata": {},
   "source": [
    "# 検証"
   ]
  },
  {
   "cell_type": "code",
   "execution_count": 3,
   "metadata": {
    "scrolled": true
   },
   "outputs": [],
   "source": [
    "# 学習済みモデル読み込み\n",
    "from keras.models import load_model\n",
    "loadedModel = load_model(\"../test2.h5\")"
   ]
  },
  {
   "cell_type": "code",
   "execution_count": 4,
   "metadata": {},
   "outputs": [
    {
     "name": "stdout",
     "output_type": "stream",
     "text": [
      "(1, 28, 28, 1) uint8\n",
      "[[0. 0. 0. 0. 0. 1. 0. 0. 0. 0.]]\n",
      "数値： 5\n"
     ]
    },
    {
     "data": {
      "image/png": "[encoded data removed]",
      "text/plain": [
       "<Figure size 432x288 with 1 Axes>"
      ]
     },
     "metadata": {
      "needs_background": "light"
     },
     "output_type": "display_data"
    }
   ],
   "source": [
    "import matplotlib.pyplot as plt\n",
    "%matplotlib inline\n",
    "from keras.preprocessing.image import img_to_array, load_img\n",
    "import numpy as np\n",
    "from keras.applications.imagenet_utils import preprocess_input, decode_predictions\n",
    "\n",
    "# 5と誤認識 今のデータセットだと無理っぽい\n",
    "img_path = '../img/6.png'\n",
    "img = load_img(img_path, color_mode = \"grayscale\", target_size=(28, 28)) #入力画像のサイズ\n",
    "x = img_to_array(img) # 画像データをnumpy.arrayへ変換\n",
    "# なぜか逆になっている\n",
    "x = 255 - x\n",
    "x = np.expand_dims(x, axis=0)\n",
    "x = x.astype('uint8')\n",
    "\n",
    "# 閾値を下回るものは0にする\n",
    "x = np.where(x>100, x, 0)\n",
    "\n",
    "# print(x[0])\n",
    "print(x.shape, x.dtype)\n",
    "predicated = loadedModel.predict(x)\n",
    "print(predicated)\n",
    "\n",
    "# 検証\n",
    "print(\"数値：\", np.argmax(predicated))\n",
    "# テスト画像データを表示\n",
    "plt.imshow(img, cmap =plt.cm.gray_r)\n",
    "plt.show()"
   ]
  },
  {
   "cell_type": "code",
   "execution_count": 5,
   "metadata": {},
   "outputs": [
    {
     "name": "stdout",
     "output_type": "stream",
     "text": [
      "(1, 28, 28, 1) uint8\n",
      "[[0. 0. 1. 0. 0. 0. 0. 0. 0. 0.]]\n",
      "数値： 2\n"
     ]
    },
    {
     "data": {
      "image/png": "[encoded data removed]",
      "text/plain": [
       "<Figure size 432x288 with 1 Axes>"
      ]
     },
     "metadata": {
      "needs_background": "light"
     },
     "output_type": "display_data"
    }
   ],
   "source": [
    "import matplotlib.pyplot as plt\n",
    "%matplotlib inline\n",
    "from keras.preprocessing.image import img_to_array, load_img\n",
    "import numpy as np\n",
    "from keras.applications.imagenet_utils import preprocess_input, decode_predictions\n",
    "\n",
    "# 周りをトリミングしている\n",
    "img_path = '../img/2.jpg'\n",
    "img = load_img(img_path, color_mode = \"grayscale\", target_size=(36, 36)) #入力画像のサイズ\n",
    "x = img_to_array(img) # 画像データをnumpy.arrayへ変換\n",
    "# 上下左右4pxトリム\n",
    "x = x[4:32, 4:32]\n",
    "# なぜか逆になっている\n",
    "x = 255 - x\n",
    "x = np.expand_dims(x, axis=0)\n",
    "x = x.astype('uint8')\n",
    "\n",
    "# 閾値を下回るものは0にする\n",
    "x = np.where(x>100, x, 0)\n",
    "\n",
    "# print(x[0])\n",
    "print(x.shape, x.dtype)\n",
    "predicated = loadedModel.predict(x)\n",
    "print(predicated)\n",
    "\n",
    "# 検証\n",
    "print(\"数値：\", np.argmax(predicated))\n",
    "# テスト画像データを表示\n",
    "plt.imshow(img, cmap =plt.cm.gray_r)\n",
    "plt.show()"
   ]
  }
 ],
 "metadata": {
  "kernelspec": {
   "display_name": "Python 3",
   "language": "python",
   "name": "python3"
  },
  "language_info": {
   "codemirror_mode": {
    "name": "ipython",
    "version": 3
   },
   "file_extension": ".py",
   "mimetype": "text/x-python",
   "name": "python",
   "nbconvert_exporter": "python",
   "pygments_lexer": "ipython3",
   "version": "3.7.1"
  }
 },
 "nbformat": 4,
 "nbformat_minor": 2
}
