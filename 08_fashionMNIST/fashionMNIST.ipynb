{
 "cells": [
  {
   "cell_type": "code",
   "execution_count": 1,
   "metadata": {},
   "outputs": [],
   "source": [
    "# データのロード\n",
    "from tensorflow.keras.datasets import fashion_mnist\n",
    "\n",
    "(x_train_src, y_train_src), (x_test_src, y_test_src) = fashion_mnist.load_data()"
   ]
  },
  {
   "cell_type": "code",
   "execution_count": 4,
   "metadata": {},
   "outputs": [
    {
     "name": "stdout",
     "output_type": "stream",
     "text": [
      "(60000, 28, 28)\n",
      "(10000, 28, 28)\n"
     ]
    },
    {
     "data": {
      "image/png": "[encoded data removed]",
      "text/plain": [
       "<Figure size 648x1080 with 9 Axes>"
      ]
     },
     "metadata": {},
     "output_type": "display_data"
    }
   ],
   "source": [
    "import numpy as np\n",
    "# データセット確認\n",
    "# データセットの大きさ確認\n",
    "print(x_train_src.shape) # 訓練データのサイズ\n",
    "print(x_test_src.shape) # テストデータのサイズ\n",
    "\n",
    "# データセットの表示\n",
    "%matplotlib inline\n",
    "import matplotlib.pyplot as plt\n",
    "\n",
    "fig = plt.figure(figsize=(9, 15))\n",
    "fig.subplots_adjust(left=0, right=1, bottom=0, top=0.5, hspace=0.05, wspace=0.05)\n",
    "\n",
    "seed = np.random.randint(100)\n",
    "for i in range(9):\n",
    "    ax = fig.add_subplot(1, 9, i + 1, xticks=[], yticks=[])\n",
    "    ax.imshow(x_train_src[i+seed], cmap='gray')"
   ]
  },
  {
   "cell_type": "code",
   "execution_count": 26,
   "metadata": {},
   "outputs": [
    {
     "name": "stdout",
     "output_type": "stream",
     "text": [
      "(60000, 28, 28, 1)\n",
      "(10000, 28, 28, 1)\n",
      "(60000, 10)\n"
     ]
    }
   ],
   "source": [
    "# データの整形\n",
    "from tensorflow.keras.utils import to_categorical\n",
    "\n",
    "x_train = x_train_src.reshape(-1, 28, 28, 1) / 255\n",
    "x_test = x_test_src.reshape(-1, 28, 28, 1) /255\n",
    "y_train = to_categorical(y_train_src)\n",
    "y_test = to_categorical(y_test_src)\n",
    "\n",
    "print(x_train.shape) # 訓練データのサイズ\n",
    "print(x_test.shape) # テストデータのサイズ\n",
    "print(y_train.shape) \n",
    "\n",
    "# モデル構築\n",
    "import keras\n",
    "from tensorflow.keras.models import Sequential\n",
    "from tensorflow.keras.layers import Dense, Activation, Dropout, Flatten\n",
    "from tensorflow.keras.layers import Conv2D, MaxPooling2D\n",
    "from tensorflow.keras import optimizers\n",
    "# from tensorflow.keras import Sequential\n",
    "# from tensorflow.keras.layers import Dense\n",
    "\n",
    "input_shape = (28, 28, 1)\n",
    "# モデルを作成\n",
    "model = Sequential()\n",
    "model.add(Conv2D(32, kernel_size=(3, 3),\n",
    "                 activation='relu',\n",
    "                 input_shape=input_shape))\n",
    "model.add(Conv2D(64, (3, 3), activation='relu'))\n",
    "model.add(MaxPooling2D(pool_size=(2, 2)))\n",
    "model.add(Dropout(0.25))\n",
    "model.add(Flatten())\n",
    "model.add(Dense(128, activation='relu'))\n",
    "model.add(Dropout(0.5))\n",
    "model.add(Dense(10, activation='softmax'))\n",
    "\n",
    "## 学習のためのモデルを設定\n",
    "model.compile(loss=keras.losses.categorical_crossentropy,\n",
    "              optimizer=optimizers.Adadelta(),\n",
    "              metrics=['accuracy'])\n"
   ]
  },
  {
   "cell_type": "code",
   "execution_count": 27,
   "metadata": {},
   "outputs": [
    {
     "name": "stdout",
     "output_type": "stream",
     "text": [
      "Train on 60000 samples, validate on 10000 samples\n",
      "WARNING:tensorflow:From /anaconda3/lib/python3.7/site-packages/tensorflow/python/ops/math_ops.py:3066: to_int32 (from tensorflow.python.ops.math_ops) is deprecated and will be removed in a future version.\n",
      "Instructions for updating:\n",
      "Use tf.cast instead.\n",
      "Epoch 1/10\n",
      "60000/60000 [==============================] - 123s 2ms/sample - loss: 1.0008 - acc: 0.6504 - val_loss: 0.5354 - val_acc: 0.8036\n",
      "Epoch 2/10\n",
      "60000/60000 [==============================] - 118s 2ms/sample - loss: 0.5494 - acc: 0.8020 - val_loss: 0.4407 - val_acc: 0.8383\n",
      "Epoch 3/10\n",
      "60000/60000 [==============================] - 119s 2ms/sample - loss: 0.4653 - acc: 0.8318 - val_loss: 0.4227 - val_acc: 0.8375\n",
      "Epoch 4/10\n",
      "60000/60000 [==============================] - 129s 2ms/sample - loss: 0.4145 - acc: 0.8520 - val_loss: 0.3661 - val_acc: 0.8671\n",
      "Epoch 5/10\n",
      "60000/60000 [==============================] - 125s 2ms/sample - loss: 0.3817 - acc: 0.8638 - val_loss: 0.3347 - val_acc: 0.8788\n",
      "Epoch 6/10\n",
      "60000/60000 [==============================] - 117s 2ms/sample - loss: 0.3585 - acc: 0.8723 - val_loss: 0.3285 - val_acc: 0.8806\n",
      "Epoch 7/10\n",
      "60000/60000 [==============================] - 117s 2ms/sample - loss: 0.3371 - acc: 0.8797 - val_loss: 0.3188 - val_acc: 0.8815\n",
      "Epoch 8/10\n",
      "60000/60000 [==============================] - 118s 2ms/sample - loss: 0.3260 - acc: 0.8835 - val_loss: 0.2973 - val_acc: 0.8895\n",
      "Epoch 9/10\n",
      "60000/60000 [==============================] - 123s 2ms/sample - loss: 0.3091 - acc: 0.8881 - val_loss: 0.2930 - val_acc: 0.8927\n",
      "Epoch 10/10\n",
      "60000/60000 [==============================] - 116s 2ms/sample - loss: 0.3011 - acc: 0.8918 - val_loss: 0.2914 - val_acc: 0.8935\n"
     ]
    },
    {
     "data": {
      "text/plain": [
       "<tensorflow.python.keras.callbacks.History at 0xb3c50dc50>"
      ]
     },
     "execution_count": 27,
     "metadata": {},
     "output_type": "execute_result"
    }
   ],
   "source": [
    "# 学習\n",
    "from tensorflow.keras.callbacks import EarlyStopping\n",
    "\n",
    "early_stopping = EarlyStopping(patience=10, verbose=1)\n",
    "\n",
    "model.fit(x_train, y_train, batch_size=1000, verbose=1, epochs=10, validation_data=(x_test, y_test), callbacks=[early_stopping])"
   ]
  },
  {
   "cell_type": "code",
   "execution_count": null,
   "metadata": {},
   "outputs": [],
   "source": [
    "# 性能評価\n",
    "score = model.evaluate(x_test, y_test, verbose=0)\n",
    "print('Test loss:', score[0])\n",
    "print('Test accuracy:', score[1])"
   ]
  },
  {
   "cell_type": "code",
   "execution_count": 59,
   "metadata": {},
   "outputs": [
    {
     "name": "stdout",
     "output_type": "stream",
     "text": [
      "[[0. 0. 0. 0. 0. 0. 0. 0. 1. 0.]]\n",
      "This is ： バッグ\n"
     ]
    },
    {
     "data": {
      "image/png": "[encoded data removed]",
      "text/plain": [
       "<Figure size 432x288 with 1 Axes>"
      ]
     },
     "metadata": {
      "needs_background": "light"
     },
     "output_type": "display_data"
    }
   ],
   "source": [
    "# 検証\n",
    "import matplotlib.pyplot as plt\n",
    "%matplotlib inline\n",
    "# 学習済みモデル読み込み\n",
    "from keras.models import load_model\n",
    "\n",
    "from keras.datasets import mnist\n",
    "import numpy as np\n",
    "\n",
    "map = (\"Tシャツ/トップス\", \"ズボン\",\"プルオーバー\",\"ドレス\",\"コート\",\"サンダル\",\"シャツ\",\"スニーカー\", \"バッグ\", \"アンクルブーツ\")\n",
    "# print(map[1])\n",
    "# 確認\n",
    "data = x_test_src[np.random.randint(10000)]\n",
    "# print(data)\n",
    "# print(data.reshape(1, 28, 28, 1)[0])\n",
    "# print(data.reshape(1, 28, 28, 1).shape, data.reshape(1, 28, 28, 1).dtype)\n",
    "predicated = model.predict(data.reshape(1, 28, 28, 1))\n",
    "print(predicated)\n",
    "# 検証\n",
    "print(\"This is ：\", map[np.argmax(predicated)])\n",
    "# テスト画像データを表示\n",
    "plt.imshow(data, cmap =plt.cm.gray_r)\n",
    "plt.show()\n"
   ]
  }
 ],
 "metadata": {
  "kernelspec": {
   "display_name": "Python 3",
   "language": "python",
   "name": "python3"
  },
  "language_info": {
   "codemirror_mode": {
    "name": "ipython",
    "version": 3
   },
   "file_extension": ".py",
   "mimetype": "text/x-python",
   "name": "python",
   "nbconvert_exporter": "python",
   "pygments_lexer": "ipython3",
   "version": "3.7.1"
  }
 },
 "nbformat": 4,
 "nbformat_minor": 2
}
